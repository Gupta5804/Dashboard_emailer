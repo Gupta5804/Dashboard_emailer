{
 "cells": [
  {
   "cell_type": "code",
   "execution_count": 1,
   "metadata": {},
   "outputs": [],
   "source": [
    "import requests\n",
    "import json\n",
    "import pandas as pd\n",
    "from datetime import date,time,datetime,timedelta\n",
    "from openpyxl import load_workbook\n",
    "import itertools\n",
    "import math"
   ]
  },
  {
   "cell_type": "code",
   "execution_count": 13,
   "metadata": {},
   "outputs": [],
   "source": [
    "auth_token_hiya=\"fc3ed86b62485a2b9a6a680477ea7e60\"\n",
    "auth_token_rawble=\"3e30f5cafe70f32a3090c8686a2088cd\"\n",
    "organization_id_hiya=\"654806043\"\n",
    "organization_id_rawble = \"667580392\"\n",
    "base_url = \"https://books.zoho.com/api/v3\"\n",
    "end_points = {'invoices':'/invoices','crm':'/crm','contacts':'/contacts','account':'/account','bills':'/bills','salesorders':'/salesorders','purchaseorders':'/purchaseorders'}"
   ]
  },
  {
   "cell_type": "code",
   "execution_count": 14,
   "metadata": {},
   "outputs": [],
   "source": [
    "today = date.today()\n",
    "week_start = today #+ timedelta(days=7-today.weekday())\n",
    "first_day =week_start\n",
    "week = timedelta(days=7)\n",
    "week_end = week_start + week"
   ]
  },
  {
   "cell_type": "code",
   "execution_count": 15,
   "metadata": {},
   "outputs": [],
   "source": [
    "params = {'authtoken':auth_token_rawble,'organization_id':organization_id_rawble,'date':today} #-timedelta(days=1)}\n",
    "response = requests.get(base_url + end_points['purchaseorders'],params)"
   ]
  },
  {
   "cell_type": "code",
   "execution_count": 17,
   "metadata": {
    "scrolled": false
   },
   "outputs": [
    {
     "data": {
      "text/plain": [
       "[{'purchaseorder_id': '1366359000000428001',\n",
       "  'vendor_id': '1366359000000065143',\n",
       "  'vendor_name': 'HIYA INDIA BIOTECH PVT LTD',\n",
       "  'company_name': 'HIYA INDIA BIOTECH PVT LTD',\n",
       "  'order_status': 'closed',\n",
       "  'billed_status': 'billed',\n",
       "  'status': 'billed',\n",
       "  'current_sub_status_id': '',\n",
       "  'current_sub_status': '',\n",
       "  'purchaseorder_number': 'PO-00137',\n",
       "  'reference_number': 'SO-000088',\n",
       "  'date': '2018-07-14',\n",
       "  'delivery_date': '2018-07-14',\n",
       "  'currency_id': '1366359000000000099',\n",
       "  'currency_code': 'INR',\n",
       "  'price_precision': '',\n",
       "  'total': 103840.0,\n",
       "  'has_attachment': False,\n",
       "  'created_time': '2018-07-14T13:31:46+0530',\n",
       "  'last_modified_time': '2018-07-14T13:33:26+0530',\n",
       "  'is_drop_shipment': False,\n",
       "  'quantity_yet_to_receive': 0,\n",
       "  'cf_payment_terms': 'ADVANCE',\n",
       "  'receives': [{'receive_id': '', 'receive_number': ''}],\n",
       "  'client_viewed_time': '',\n",
       "  'is_viewed_by_client': False},\n",
       " {'purchaseorder_id': '1366359000000424171',\n",
       "  'vendor_id': '1366359000000065143',\n",
       "  'vendor_name': 'HIYA INDIA BIOTECH PVT LTD',\n",
       "  'company_name': 'HIYA INDIA BIOTECH PVT LTD',\n",
       "  'order_status': 'open',\n",
       "  'billed_status': 'partially_billed',\n",
       "  'status': 'partially_billed',\n",
       "  'current_sub_status_id': '',\n",
       "  'current_sub_status': '',\n",
       "  'purchaseorder_number': 'PO-00136',\n",
       "  'reference_number': 'SO-000071',\n",
       "  'date': '2018-07-14',\n",
       "  'delivery_date': '2018-07-14',\n",
       "  'currency_id': '1366359000000000099',\n",
       "  'currency_code': 'INR',\n",
       "  'price_precision': '',\n",
       "  'total': 873388.8,\n",
       "  'has_attachment': False,\n",
       "  'created_time': '2018-07-14T13:02:55+0530',\n",
       "  'last_modified_time': '2018-07-14T13:08:07+0530',\n",
       "  'is_drop_shipment': False,\n",
       "  'quantity_yet_to_receive': 64.0,\n",
       "  'cf_payment_terms': 'NET 30',\n",
       "  'receives': [{'receive_id': '', 'receive_number': ''}],\n",
       "  'client_viewed_time': '',\n",
       "  'is_viewed_by_client': False}]"
      ]
     },
     "execution_count": 17,
     "metadata": {},
     "output_type": "execute_result"
    }
   ],
   "source": [
    "response.json()['purchaseorders']\n",
    "\n"
   ]
  },
  {
   "cell_type": "code",
   "execution_count": 21,
   "metadata": {},
   "outputs": [
    {
     "name": "stdout",
     "output_type": "stream",
     "text": [
      "1366359000000428001\n",
      "1366359000000424171\n"
     ]
    }
   ],
   "source": [
    "purchaseorder_ids = []\n",
    "for i in range(len(response.json()['purchaseorders'])):\n",
    "    a = response.json()['purchaseorders']\n",
    "    if(a[i]['vendor_id']=='1366359000000065143'):\n",
    "        print(a[i]['purchaseorder_id'])\n",
    "        purchaseorder_ids.append(a[i]['purchaseorder_id'])"
   ]
  },
  {
   "cell_type": "code",
   "execution_count": 22,
   "metadata": {},
   "outputs": [
    {
     "data": {
      "text/plain": [
       "['1366359000000428001', '1366359000000424171']"
      ]
     },
     "execution_count": 22,
     "metadata": {},
     "output_type": "execute_result"
    }
   ],
   "source": [
    "purchaseorder_ids"
   ]
  },
  {
   "cell_type": "code",
   "execution_count": 26,
   "metadata": {},
   "outputs": [],
   "source": [
    "purchaseorders = []\n",
    "for i in range(len(purchaseorder_ids)):\n",
    "    params = {'authtoken':auth_token_rawble , 'organization_id': organization_id_rawble}\n",
    "    response = requests.get(base_url + end_points['purchaseorders']+'/' +purchaseorder_ids[i],params )\n",
    "    purchaseorders.append(response.json()['purchaseorder'])"
   ]
  },
  {
   "cell_type": "code",
   "execution_count": 28,
   "metadata": {},
   "outputs": [
    {
     "data": {
      "text/plain": [
       "{'purchaseorder_id': '1366359000000428001',\n",
       " 'documents': [],\n",
       " 'tax_treatment': 'business_gst',\n",
       " 'gst_no': '07AACCH2972D1ZS',\n",
       " 'contact_category': 'business_gst',\n",
       " 'gst_treatment': 'business_gst',\n",
       " 'purchaseorder_number': 'PO-00137',\n",
       " 'date': '2018-07-14',\n",
       " 'client_viewed_time': '',\n",
       " 'is_viewed_by_client': False,\n",
       " 'is_pre_gst': False,\n",
       " 'expected_delivery_date': '',\n",
       " 'reference_number': 'SO-000088',\n",
       " 'status': 'cancelled',\n",
       " 'order_status': 'cancelled',\n",
       " 'billed_status': '',\n",
       " 'current_sub_status_id': '',\n",
       " 'current_sub_status': '',\n",
       " 'sub_statuses': [],\n",
       " 'source_of_supply': 'DL',\n",
       " 'destination_of_supply': 'DL',\n",
       " 'vendor_id': '1366359000000065143',\n",
       " 'vendor_name': 'HIYA INDIA BIOTECH PVT LTD',\n",
       " 'crm_owner_id': '',\n",
       " 'contact_persons': ['1366359000000065145'],\n",
       " 'currency_id': '1366359000000000099',\n",
       " 'currency_code': 'INR',\n",
       " 'currency_symbol': '₹',\n",
       " 'exchange_rate': 1.0,\n",
       " 'delivery_date': '2018-07-14',\n",
       " 'is_emailed': False,\n",
       " 'is_drop_shipment': False,\n",
       " 'is_inclusive_tax': False,\n",
       " 'is_reverse_charge_applied': False,\n",
       " 'line_items': [{'item_id': '1366359000000243152',\n",
       "   'line_item_id': '1366359000000428005',\n",
       "   'account_id': '1366359000000034003',\n",
       "   'account_name': 'Cost of Goods Sold',\n",
       "   'name': 'CAMPHOR POWDER (old)',\n",
       "   'description': '',\n",
       "   'item_order': 0,\n",
       "   'bcy_rate': 880.0,\n",
       "   'rate': 880.0,\n",
       "   'quantity': 100.0,\n",
       "   'quantity_cancelled': 0.0,\n",
       "   'unit': 'KG',\n",
       "   'item_total': 88000.0,\n",
       "   'tax_exemption_id': '',\n",
       "   'tax_exemption_code': '',\n",
       "   'gst_treatment_code': '',\n",
       "   'tax_id': '1366359000000063219',\n",
       "   'tax_name': 'GST18',\n",
       "   'tax_type': 'tax_group',\n",
       "   'tax_percentage': 18,\n",
       "   'product_type': 'goods',\n",
       "   'item_type': 'sales_and_purchases',\n",
       "   'hsn_or_sac': '',\n",
       "   'reverse_charge_tax_id': '',\n",
       "   'tags': [],\n",
       "   'item_custom_fields': [{'customfield_id': '1366359000000291405',\n",
       "     'is_active': True,\n",
       "     'show_in_all_pdf': True,\n",
       "     'value_formatted': '-',\n",
       "     'data_type': 'string',\n",
       "     'index': 1,\n",
       "     'label': 'Make',\n",
       "     'show_on_pdf': True,\n",
       "     'placeholder': 'cf_make',\n",
       "     'value': '-'}]}],\n",
       " 'has_qty_cancelled': False,\n",
       " 'submitter_id': '',\n",
       " 'approver_id': '',\n",
       " 'adjustment': 0.0,\n",
       " 'adjustment_description': 'Adjustment',\n",
       " 'discount_amount': 0.0,\n",
       " 'discount': 0.0,\n",
       " 'discount_applied_on_amount': 0.0,\n",
       " 'is_discount_before_tax': True,\n",
       " 'discount_account_id': '',\n",
       " 'sub_total': 88000.0,\n",
       " 'tax_total': 15840.0,\n",
       " 'total': 103840.0,\n",
       " 'taxes': [{'tax_name': 'SGST9 (9%)', 'tax_amount': 7920.0},\n",
       "  {'tax_name': 'CGST9 (9%)', 'tax_amount': 7920.0}],\n",
       " 'price_precision': 2,\n",
       " 'billing_address': {'address': 'A-34, GROUND FLOOR,OKHLA',\n",
       "  'street2': 'OKHLA INDUSTRIAL AREA',\n",
       "  'city': 'New Delhi',\n",
       "  'state': 'DELHI',\n",
       "  'zip': '110020',\n",
       "  'country': '',\n",
       "  'fax': '',\n",
       "  'phone': '',\n",
       "  'attention': ''},\n",
       " 'notes': '',\n",
       " 'terms': 'The following points need to adhere while making an invoice. In absence of any of these mandatory requirements, the invoice/material WILL NOT be accepted:\\n1) All invoices must bear our Purchase order no. and the same delivery address needs to be mentioned as in the Purchase order header.\\n2) The criteria of Quantity as defined in the Purchase order must be followed, failing which, the bill/material will not be accepted.\\n3) The materials must be dispatched with proper e-way bill wherever applicable.\\n4) The original invoice and other related documents must be addressed to our Commercial Dept as per the address mentioned in the Purchase order.\\n5) In case of Packing material being rejected due to any quality issue, the intimation will be sent and the material under inspection will be destroyed within 2 days of intimation to you at your cost.\\n6) No payment shall be paid, if the supplier does not deposit the GST amount timely and furnish the appropriate return with due date.\\n7) In case advance payment has been made, vendor will timely deposit tax and will appropriate return with in time. In case of failure, recovery will be made along with applicable tax, interest and penalty\\n',\n",
       " 'ship_via': '',\n",
       " 'ship_via_id': '',\n",
       " 'attention': '',\n",
       " 'delivery_org_address_id': '',\n",
       " 'delivery_customer_id': '',\n",
       " 'delivery_address': {'zip': '110049',\n",
       "  'country': 'India',\n",
       "  'address': 'F-41, 2nd floor, U&I BUSINESS CENTRE,South extension-1',\n",
       "  'organization_address_id': '',\n",
       "  'address2': 'South extension-1',\n",
       "  'city': 'DELHI',\n",
       "  'phone': '',\n",
       "  'address1': 'F-41, 2nd floor, U&I BUSINESS CENTRE',\n",
       "  'state': 'Delhi'},\n",
       " 'custom_fields': [{'customfield_id': '1366359000000066159',\n",
       "   'is_active': True,\n",
       "   'show_in_all_pdf': True,\n",
       "   'value_formatted': 'ADVANCE',\n",
       "   'data_type': 'string',\n",
       "   'index': 1,\n",
       "   'label': 'Payment Terms',\n",
       "   'show_on_pdf': True,\n",
       "   'placeholder': 'cf_payment_terms',\n",
       "   'value': 'ADVANCE'}],\n",
       " 'custom_field_hash': {'cf_payment_terms': 'ADVANCE'},\n",
       " 'attachment_name': '',\n",
       " 'can_send_in_mail': False,\n",
       " 'template_id': '1366359000000017007',\n",
       " 'template_name': 'Standard Template',\n",
       " 'page_width': '8.27in',\n",
       " 'page_height': '11.69in',\n",
       " 'orientation': 'portrait',\n",
       " 'template_type': 'standard',\n",
       " 'created_time': '2018-07-14T13:31:46+0530',\n",
       " 'created_by_id': '1366359000000401083',\n",
       " 'last_modified_time': '2018-07-14T14:00:50+0530',\n",
       " 'can_mark_as_bill': False,\n",
       " 'can_mark_as_unbill': False}"
      ]
     },
     "execution_count": 28,
     "metadata": {},
     "output_type": "execute_result"
    }
   ],
   "source": [
    "purchaseorders[0]"
   ]
  },
  {
   "cell_type": "code",
   "execution_count": 29,
   "metadata": {},
   "outputs": [],
   "source": [
    "params = {'authtoken':auth_token_hiya,'organization_id':organization_id_hiya,'date':today}\n",
    "response = requests.get(base_url + end_points['salesorders'],params)"
   ]
  },
  {
   "cell_type": "code",
   "execution_count": 30,
   "metadata": {
    "scrolled": true
   },
   "outputs": [
    {
     "data": {
      "text/plain": [
       "{'code': 0,\n",
       " 'message': 'success',\n",
       " 'salesorders': [{'salesorder_id': '960937000002289425',\n",
       "   'zcrm_potential_id': '',\n",
       "   'zcrm_potential_name': '',\n",
       "   'customer_name': 'NUPLANET VENTURES INDIA PVT LTD',\n",
       "   'customer_id': '960937000001265404',\n",
       "   'company_name': 'NUPLANET VENTURES INDIA PVT LTD',\n",
       "   'order_status': 'open',\n",
       "   'salesorder_number': 'SO-00652',\n",
       "   'reference_number': '',\n",
       "   'date': '2018-07-14',\n",
       "   'shipment_date': '',\n",
       "   'shipment_days': '',\n",
       "   'due_by_days': '',\n",
       "   'due_in_days': '',\n",
       "   'currency_id': '960937000000000099',\n",
       "   'currency_code': 'INR',\n",
       "   'total': 103840.0,\n",
       "   'bcy_total': 103840.0,\n",
       "   'created_time': '2018-07-14T13:24:29+0530',\n",
       "   'last_modified_time': '2018-07-14T13:32:24+0530',\n",
       "   'is_emailed': False,\n",
       "   'status': 'invoiced',\n",
       "   'salesperson_name': '',\n",
       "   'has_attachment': False,\n",
       "   'cf_payment_terms': 'Net 45',\n",
       "   'custom_fields_list': ''},\n",
       "  {'salesorder_id': '960937000002297005',\n",
       "   'zcrm_potential_id': '',\n",
       "   'zcrm_potential_name': '',\n",
       "   'customer_name': 'International Herbal Corporation Pvt. Ltd.',\n",
       "   'customer_id': '960937000000100917',\n",
       "   'company_name': '',\n",
       "   'order_status': 'open',\n",
       "   'salesorder_number': 'SO-00651',\n",
       "   'reference_number': 'IHC/RM/213/2018-19',\n",
       "   'date': '2018-07-14',\n",
       "   'shipment_date': '',\n",
       "   'shipment_days': '',\n",
       "   'due_by_days': '',\n",
       "   'due_in_days': '',\n",
       "   'currency_id': '960937000000000099',\n",
       "   'currency_code': 'INR',\n",
       "   'total': 138060.0,\n",
       "   'bcy_total': 138060.0,\n",
       "   'created_time': '2018-07-14T13:13:13+0530',\n",
       "   'last_modified_time': '2018-07-14T13:14:36+0530',\n",
       "   'is_emailed': True,\n",
       "   'status': 'open',\n",
       "   'salesperson_name': 'GARIMA SAXENA',\n",
       "   'has_attachment': False,\n",
       "   'cf_delivery_type': 'FOR',\n",
       "   'cf_payment_terms': 'Net 30',\n",
       "   'custom_fields_list': ''},\n",
       "  {'salesorder_id': '960937000002290028',\n",
       "   'zcrm_potential_id': '',\n",
       "   'zcrm_potential_name': '',\n",
       "   'customer_name': 'MAXCURE NUTRAVEDICS LIMITED',\n",
       "   'customer_id': '960937000000100367',\n",
       "   'company_name': '',\n",
       "   'order_status': 'open',\n",
       "   'salesorder_number': 'SO-00650',\n",
       "   'reference_number': '4500446739',\n",
       "   'date': '2018-07-14',\n",
       "   'shipment_date': '',\n",
       "   'shipment_days': '',\n",
       "   'due_by_days': '',\n",
       "   'due_in_days': '',\n",
       "   'currency_id': '960937000000000099',\n",
       "   'currency_code': 'INR',\n",
       "   'total': 5251.0,\n",
       "   'bcy_total': 5251.0,\n",
       "   'created_time': '2018-07-14T13:04:55+0530',\n",
       "   'last_modified_time': '2018-07-14T13:06:57+0530',\n",
       "   'is_emailed': True,\n",
       "   'status': 'open',\n",
       "   'salesperson_name': '',\n",
       "   'has_attachment': False,\n",
       "   'cf_delivery_type': 'FOR',\n",
       "   'cf_payment_terms': 'Net 60',\n",
       "   'custom_fields_list': ''},\n",
       "  {'salesorder_id': '960937000002291051',\n",
       "   'zcrm_potential_id': '',\n",
       "   'zcrm_potential_name': '',\n",
       "   'customer_name': 'NUPLANET VENTURES INDIA PVT LTD',\n",
       "   'customer_id': '960937000001265404',\n",
       "   'company_name': 'NUPLANET VENTURES INDIA PVT LTD',\n",
       "   'order_status': 'open',\n",
       "   'salesorder_number': 'SO-00649',\n",
       "   'reference_number': 'By Mail',\n",
       "   'date': '2018-07-14',\n",
       "   'shipment_date': '',\n",
       "   'shipment_days': '',\n",
       "   'due_by_days': '',\n",
       "   'due_in_days': '',\n",
       "   'currency_id': '960937000000000099',\n",
       "   'currency_code': 'INR',\n",
       "   'total': 855691.2,\n",
       "   'bcy_total': 855691.2,\n",
       "   'created_time': '2018-07-14T11:53:37+0530',\n",
       "   'last_modified_time': '2018-07-14T12:56:17+0530',\n",
       "   'is_emailed': False,\n",
       "   'status': 'partially_invoiced',\n",
       "   'salesperson_name': 'ishleen kaur',\n",
       "   'has_attachment': False,\n",
       "   'cf_payment_terms': 'Net 30',\n",
       "   'custom_fields_list': ''},\n",
       "  {'salesorder_id': '960937000002291001',\n",
       "   'zcrm_potential_id': '',\n",
       "   'zcrm_potential_name': '',\n",
       "   'customer_name': 'NUPLANET VENTURES INDIA PVT LTD',\n",
       "   'customer_id': '960937000001265404',\n",
       "   'company_name': 'NUPLANET VENTURES INDIA PVT LTD',\n",
       "   'order_status': 'draft',\n",
       "   'salesorder_number': 'SO-00648',\n",
       "   'reference_number': 'By Mail',\n",
       "   'date': '2018-07-14',\n",
       "   'shipment_date': '',\n",
       "   'shipment_days': '',\n",
       "   'due_by_days': '',\n",
       "   'due_in_days': '',\n",
       "   'currency_id': '960937000000000099',\n",
       "   'currency_code': 'INR',\n",
       "   'total': 99120.0,\n",
       "   'bcy_total': 99120.0,\n",
       "   'created_time': '2018-07-14T11:18:24+0530',\n",
       "   'last_modified_time': '2018-07-14T11:18:24+0530',\n",
       "   'is_emailed': False,\n",
       "   'status': 'draft',\n",
       "   'salesperson_name': 'Divesh Pandey',\n",
       "   'has_attachment': False,\n",
       "   'cf_payment_terms': 'Net 30',\n",
       "   'custom_fields_list': ''}],\n",
       " 'page_context': {'page': 1,\n",
       "  'per_page': 200,\n",
       "  'has_more_page': False,\n",
       "  'report_name': 'Sales Orders',\n",
       "  'applied_filter': 'Status.All',\n",
       "  'sort_column': 'created_time',\n",
       "  'sort_order': 'D',\n",
       "  'search_criteria': [{'column_name': 'date',\n",
       "    'search_text': '2018-07-14',\n",
       "    'comparator': 'equal'}]}}"
      ]
     },
     "execution_count": 30,
     "metadata": {},
     "output_type": "execute_result"
    }
   ],
   "source": [
    "response.json()"
   ]
  },
  {
   "cell_type": "code",
   "execution_count": 51,
   "metadata": {},
   "outputs": [
    {
     "name": "stdout",
     "output_type": "stream",
     "text": [
      "{'authtoken': 'fc3ed86b62485a2b9a6a680477ea7e60', 'organization_id': '654806043', 'JSONString': \"{ 'customer_id': '960937000001265404','line_items':[{      'item_id': '1366359000000243152',      'name': 'CAMPHOR POWDER',      'description': '',      'item_order': 0,      'bcy_rate': 880.0,      'rate': 880.0,      'quantity': 100.0,      'quantity_cancelled': 0.0,      'unit': 'KG',      'item_total': 88000.0,      'tax_exemption_id': '',      'tax_exemption_code': '',      'gst_treatment_code': '',      'tax_id': '1366359000000063219',      'tax_name': 'GST18',      'tax_type': 'tax_group',      'tax_percentage': 18,      'product_type': 'goods',      'item_type': 'sales_and_purchases',      'hsn_or_sac': '',      'reverse_charge_tax_id': '',      'tags': [],}]}\"}\n"
     ]
    }
   ],
   "source": [
    "customer_id ='960937000001265404'\n",
    "params = {'authtoken':auth_token_hiya,'organization_id':organization_id_hiya,\n",
    "          'JSONString':\"{ 'customer_id': '960937000001265404','line_items':[{      'item_id': '1366359000000243152',      'name': 'CAMPHOR POWDER(old)',      'description': '',      'item_order': 0,      'bcy_rate': 880.0,      'rate': 880.0,      'quantity': 100.0,      'quantity_cancelled': 0.0,      'unit': 'KG',      'item_total': 88000.0,      'tax_exemption_id': '',      'tax_exemption_code': '',      'gst_treatment_code': '',      'tax_id': '1366359000000063219',      'tax_name': 'GST18',      'tax_type': 'tax_group',      'tax_percentage': 18,      'product_type': 'goods',      'item_type': 'sales_and_purchases',      'hsn_or_sac': '',      'reverse_charge_tax_id': '',      'tags': [],}]}\"}\n",
    "print(params)\n",
    "response = requests.post(base_url+end_points['salesorders'],params) "
   ]
  },
  {
   "cell_type": "code",
   "execution_count": 54,
   "metadata": {},
   "outputs": [
    {
     "name": "stdout",
     "output_type": "stream",
     "text": [
      "{'code': 2006, 'message': 'SalesOrder cannot be raised for items that have been deleted or marked as inactive.'}\n"
     ]
    }
   ],
   "source": [
    "print(response.json())"
   ]
  }
 ],
 "metadata": {
  "kernelspec": {
   "display_name": "Python 3",
   "language": "python",
   "name": "python3"
  },
  "language_info": {
   "codemirror_mode": {
    "name": "ipython",
    "version": 3
   },
   "file_extension": ".py",
   "mimetype": "text/x-python",
   "name": "python",
   "nbconvert_exporter": "python",
   "pygments_lexer": "ipython3",
   "version": "3.6.5"
  }
 },
 "nbformat": 4,
 "nbformat_minor": 2
}
