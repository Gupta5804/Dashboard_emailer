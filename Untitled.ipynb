{
 "cells": [
  {
   "cell_type": "code",
   "execution_count": 1,
   "metadata": {},
   "outputs": [],
   "source": [
    "import requests\n",
    "import json\n",
    "import pandas as pd\n",
    "from datetime import date,time,datetime,timedelta\n",
    "from openpyxl import load_workbook\n",
    "import itertools\n",
    "import math\n",
    "import matplotlib.pyplot as plt\n",
    "import seaborn as sns"
   ]
  },
  {
   "cell_type": "code",
   "execution_count": 3,
   "metadata": {},
   "outputs": [],
   "source": [
    "auth_token_hiya=\"fc3ed86b62485a2b9a6a680477ea7e60\"\n",
    "auth_token_rawble=\"e8253e7e6017303a54f57ce28b9d209a\"\n",
    "organization_id_hiya=\"654806043\"\n",
    "organization_id_rawble = \"667580392\"\n",
    "base_url = \"https://books.zoho.com/api/v3\"\n",
    "end_points = {'invoices':'/invoices','crm':'/crm','contacts':'/contacts','account':'/account','bills':'/bills'}"
   ]
  },
  {
   "cell_type": "code",
   "execution_count": 4,
   "metadata": {},
   "outputs": [
    {
     "name": "stdout",
     "output_type": "stream",
     "text": [
      "{'authtoken': 'fc3ed86b62485a2b9a6a680477ea7e60', 'organization_id': '654806043', 'page': 1}\n",
      "{'authtoken': 'fc3ed86b62485a2b9a6a680477ea7e60', 'organization_id': '654806043', 'page': 2}\n",
      "{'authtoken': 'fc3ed86b62485a2b9a6a680477ea7e60', 'organization_id': '654806043', 'page': 3}\n",
      "{'authtoken': 'fc3ed86b62485a2b9a6a680477ea7e60', 'organization_id': '654806043', 'page': 4}\n",
      "{'authtoken': 'fc3ed86b62485a2b9a6a680477ea7e60', 'organization_id': '654806043', 'page': 5}\n",
      "5\n",
      "888\n"
     ]
    }
   ],
   "source": [
    "page_number = 1\n",
    "parameters={'authtoken':auth_token_hiya,'organization_id':organization_id_hiya}\n",
    "parameters['page'] = page_number\n",
    "df_list_inv = []\n",
    "for i in itertools.count():\n",
    "    parameters['page'] = page_number + i\n",
    "    response = requests.get(base_url + end_points['invoices'],params = parameters)\n",
    "    df_temp = pd.DataFrame(response.json()['invoices'])\n",
    "    df_list_inv.append(df_temp)\n",
    "    print(parameters)\n",
    "    if(response.json()['page_context']['has_more_page'] != True):\n",
    "        break\n",
    "print(len(df_list_inv))\n",
    "\n",
    "df_invoice_sheet = pd.concat(df_list_inv,axis=0,sort=False)\n",
    "print(len(df_invoice_sheet))"
   ]
  },
  {
   "cell_type": "code",
   "execution_count": 5,
   "metadata": {},
   "outputs": [],
   "source": [
    "df_new_inv = pd.DataFrame()\n",
    "for i in range(len(df_invoice_sheet)):\n",
    "    if(df_invoice_sheet.iloc[i]['status']=='paid' and df_invoice_sheet.iloc[i]['last_payment_date'] != ''):\n",
    "        customer_name = df_invoice_sheet.iloc[i]['customer_name']\n",
    "        difference_date  = (datetime.strptime(df_invoice_sheet.iloc[i]['last_payment_date'],'%Y-%m-%d').date()-datetime.strptime(df_invoice_sheet.iloc[i]['due_date'],'%Y-%m-%d').date()).days\n",
    "        amount = df_invoice_sheet.iloc[i]['total']\n",
    "        df_new_inv = df_new_inv.append({\n",
    "            'customer_name':customer_name,'difference_days_avg':difference_date,'amount':amount,\n",
    "        },ignore_index=True)\n",
    "g = df_new_inv.groupby('customer_name')\n",
    "df_new_inv[\"weighted_avg\"] = (df_new_inv.difference_days_avg / g.amount.transform(\"sum\")) * df_new_inv.amount\n",
    "df_new_2_inv = pd.DataFrame(df_new_inv.groupby('customer_name').agg({'weighted_avg':'sum','difference_days_avg':'mean'}))\n"
   ]
  },
  {
   "cell_type": "code",
   "execution_count": 6,
   "metadata": {},
   "outputs": [],
   "source": [
    "today = date.today()\n",
    "week_start = today #+ timedelta(days=7-today.weekday())\n",
    "first_day =week_start\n",
    "week = timedelta(days=7)\n",
    "week_end = week_start + week"
   ]
  },
  {
   "cell_type": "code",
   "execution_count": 9,
   "metadata": {},
   "outputs": [
    {
     "name": "stdout",
     "output_type": "stream",
     "text": [
      "10737323.66\n",
      "10876319.41\n",
      "11655891.209999997\n",
      "12002235.209999997\n"
     ]
    }
   ],
   "source": [
    "df_wk1_inv = df_wk2_inv = df_wk3_inv = df_wk4_inv = pd.DataFrame()\n",
    "four_wk_report_inv = [df_wk1_inv,df_wk2_inv,df_wk3_inv,df_wk4_inv]\n",
    "\n",
    "df_invoices_2 = pd.DataFrame(columns=['customer_name','balance','age'])\n",
    "for i in range(len(df_invoice_sheet)):\n",
    "    \n",
    "    customer_name = df_invoice_sheet.iloc[i]['customer_name'] \n",
    "    balance = df_invoice_sheet.iloc[i]['balance']\n",
    "    \n",
    "    age=\" \"\n",
    "    \n",
    "    if(df_invoice_sheet.iloc[i]['due_days'].split(\" \")[0]=='Overdue'):\n",
    "        \n",
    "        age = int(df_invoice_sheet.iloc[i]['due_days'].split(\" \")[2]) * 1\n",
    "    elif(df_invoice_sheet.iloc[i]['due_days'].split(\" \")[0]=='Due'):\n",
    "        \n",
    "        if(df_invoice_sheet.iloc[i]['due_days'].split(\" \")[1]=='Today'):\n",
    "            age=0\n",
    "        else:\n",
    "            age = int(df_invoice_sheet.iloc[i]['due_days'].split(\" \")[2]) * -1\n",
    "    \n",
    "    df_invoices_2 = df_invoices_2.append({\n",
    "        'customer_name':customer_name,\n",
    "        'balance':balance,\n",
    "        'age':age,\n",
    "    },ignore_index=True)\n",
    "\n",
    "for i in range(len(four_wk_report_inv)):\n",
    "    df_temp = pd.DataFrame()\n",
    "    for k in range(len(df_invoices_2)):\n",
    "        customer_name = df_invoices_2.iloc[k]['customer_name']\n",
    "        balance = df_invoices_2.iloc[k]['balance']\n",
    "        if(df_invoices_2.iloc[k]['age'] != ' '):\n",
    "            new_age = int(df_invoices_2.iloc[k]['age']) + (i*7)\n",
    "            weighted_avg=difference_days_avg = \"No record\"\n",
    "            if(new_age >= 0):\n",
    "                for j in range(len(df_new_2_inv)):\n",
    "                    weighted_avg_list = list(df_new_2_inv.weighted_avg[df_new_2_inv.index == customer_name])\n",
    "                    difference_days_avg_list = list(df_new_2_inv.difference_days_avg[df_new_2_inv.index == customer_name])\n",
    "\n",
    "                    if(weighted_avg_list):\n",
    "                        weighted_avg = math.ceil(weighted_avg_list[0])\n",
    "                    if(difference_days_avg_list):\n",
    "                        difference_days_avg = math.ceil(difference_days_avg_list[0])\n",
    "\n",
    "                        \n",
    "                        \n",
    "                df_temp = df_temp.append({\n",
    "                    'Customer Name': customer_name,\n",
    "                    'Balance': balance,\n",
    "                    'Age' : new_age,\n",
    "                    'A_Weighted average':weighted_avg,\n",
    "                    'A_Difference days average':difference_days_avg,\n",
    "                },ignore_index=True)\n",
    "    four_wk_report_inv[i] = df_temp   \n",
    "sum_recievable_wk = [0,0,0,0]\n",
    "for j in range(len(four_wk_report_inv)):\n",
    "    for i in range(len(four_wk_report_inv[j])):\n",
    "        df_temp = four_wk_report_inv[j]\n",
    "        sum_recievable_wk[j] = sum_recievable_wk[j] + df_temp.iloc[i]['Balance']\n",
    "    \n",
    "\n",
    "result1 = pd.concat(four_wk_report_inv, keys=['as of '+str(first_day),'as of '+str(first_day+week), 'as of '+str(first_day+(week+week)),'as of '+str(first_day+(week+week+week))],axis=1)\n",
    "print(sum_recievable_wk[j])"
   ]
  },
  {
   "cell_type": "code",
   "execution_count": 10,
   "metadata": {},
   "outputs": [
    {
     "name": "stdout",
     "output_type": "stream",
     "text": [
      "{'authtoken': 'fc3ed86b62485a2b9a6a680477ea7e60', 'organization_id': '654806043', 'page': 1}\n",
      "{'authtoken': 'fc3ed86b62485a2b9a6a680477ea7e60', 'organization_id': '654806043', 'page': 2}\n",
      "{'authtoken': 'fc3ed86b62485a2b9a6a680477ea7e60', 'organization_id': '654806043', 'page': 3}\n",
      "{'authtoken': 'fc3ed86b62485a2b9a6a680477ea7e60', 'organization_id': '654806043', 'page': 4}\n",
      "4\n",
      "668\n"
     ]
    }
   ],
   "source": [
    "page_number = 1\n",
    "df_list_bi = []\n",
    "for i in itertools.count():\n",
    "    parameters['page'] = page_number + i\n",
    "    response = requests.get(base_url + end_points['bills'],params = parameters)\n",
    "    df_temp = pd.DataFrame(response.json()['bills'])\n",
    "    df_list_bi.append(df_temp)\n",
    "    print(parameters)\n",
    "    if(response.json()['page_context']['has_more_page'] != True):\n",
    "        break\n",
    "print(len(df_list_bi))\n",
    "\n",
    "df_bill_sheet = pd.concat(df_list_bi,axis=0,sort=False)\n",
    "print(len(df_bill_sheet))"
   ]
  },
  {
   "cell_type": "code",
   "execution_count": 11,
   "metadata": {},
   "outputs": [],
   "source": [
    "df_new_bi = pd.DataFrame()\n",
    "for i in range(len(df_bill_sheet)):\n",
    "    \n",
    "    if(df_bill_sheet.iloc[i]['status']=='paid'):\n",
    "        vendor_name = df_bill_sheet.iloc[i]['vendor_name']\n",
    "        difference_date  = (datetime.strptime(str(df_bill_sheet.iloc[i]['last_modified_time']).split(\"T\")[0],'%Y-%m-%d').date()-datetime.strptime(df_bill_sheet.iloc[i]['due_date'],'%Y-%m-%d').date()).days\n",
    "        \n",
    "        amount = df_bill_sheet.iloc[i]['total']\n",
    "        df_new_bi = df_new_bi.append({\n",
    "            'vendor_name':vendor_name,'difference_days_avg':difference_date,'amount':amount,\n",
    "        },ignore_index=True)\n",
    "    \n",
    "g = df_new_bi.groupby('vendor_name')\n",
    "df_new_bi[\"weighted_avg\"] = (df_new_bi.difference_days_avg / g.amount.transform(\"sum\")) * df_new_bi.amount\n",
    "df_new_2_bi = pd.DataFrame(df_new_bi.groupby('vendor_name').agg({'weighted_avg':'sum','difference_days_avg':'mean'}))\n"
   ]
  },
  {
   "cell_type": "code",
   "execution_count": 12,
   "metadata": {},
   "outputs": [],
   "source": [
    "today = date.today()\n",
    "week_start = today #+ timedelta(days=7-today.weekday())\n",
    "first_day =week_start\n",
    "week = timedelta(days=7)\n",
    "week_end = week_start + week"
   ]
  },
  {
   "cell_type": "code",
   "execution_count": 13,
   "metadata": {},
   "outputs": [
    {
     "name": "stdout",
     "output_type": "stream",
     "text": [
      "[16208766.270000001, 17655213.090000004, 17887244.090000004, 18010112.590000004]\n"
     ]
    }
   ],
   "source": [
    "df_wk1_bi = df_wk2_bi = df_wk3_bi = df_wk4_bi = pd.DataFrame()\n",
    "four_wk_report_bi = [df_wk1_bi,df_wk2_bi,df_wk3_bi,df_wk4_bi]\n",
    "\n",
    "df_bill_2 = pd.DataFrame(columns=['vendor_name','balance','age'])\n",
    "for i in range(len(df_bill_sheet)):\n",
    "    \n",
    "    vendor_name = df_bill_sheet.iloc[i]['vendor_name'] \n",
    "    balance = df_bill_sheet.iloc[i]['balance']\n",
    "    \n",
    "    age=\" \"\n",
    "    \n",
    "    if(df_bill_sheet.iloc[i]['due_days'].split(\" \")[0]=='Overdue'):\n",
    "        \n",
    "        age = int(df_bill_sheet.iloc[i]['due_days'].split(\" \")[2]) * 1\n",
    "    elif(df_bill_sheet.iloc[i]['due_days'].split(\" \")[0]=='Due'):\n",
    "        \n",
    "        if(df_bill_sheet.iloc[i]['due_days'].split(\" \")[1]=='Today'):\n",
    "            age=0\n",
    "        else:\n",
    "            age = int(df_bill_sheet.iloc[i]['due_days'].split(\" \")[2]) * -1\n",
    "    \n",
    "    df_bill_2 = df_bill_2.append({\n",
    "        'vendor_name':vendor_name,\n",
    "        'balance':balance,\n",
    "        'age':age,\n",
    "    },ignore_index=True)\n",
    "\n",
    "for i in range(len(four_wk_report_bi)):\n",
    "    df_temp = pd.DataFrame()\n",
    "    for k in range(len(df_bill_2)):\n",
    "        vendor_name = df_bill_2.iloc[k]['vendor_name']\n",
    "        balance = df_bill_2.iloc[k]['balance']\n",
    "        if(df_bill_2.iloc[k]['age'] != ' '):\n",
    "            new_age = int(df_bill_2.iloc[k]['age']) + (i*7)\n",
    "            weighted_avg=difference_days_avg = \"No record\"\n",
    "            if(new_age >= 0):\n",
    "                for j in range(len(df_new_2_bi)):\n",
    "                    weighted_avg_list = list(df_new_2_bi.weighted_avg[df_new_2_bi.index == vendor_name])\n",
    "                    difference_days_avg_list = list(df_new_2_bi.difference_days_avg[df_new_2_bi.index == vendor_name])\n",
    "\n",
    "                    if(weighted_avg_list):\n",
    "                        weighted_avg = math.ceil(weighted_avg_list[0])\n",
    "                    if(difference_days_avg_list):\n",
    "                        difference_days_avg = math.ceil(difference_days_avg_list[0])\n",
    "\n",
    "                        \n",
    "                        \n",
    "                df_temp = df_temp.append({\n",
    "                    'Vendor Name': vendor_name,\n",
    "                    'Balance': balance,\n",
    "                    'Age' : new_age,\n",
    "                    'A_Weighted average':weighted_avg,\n",
    "                    'A_Difference days average':difference_days_avg,\n",
    "                },ignore_index=True)\n",
    "    four_wk_report_bi[i] = df_temp   \n",
    "\n",
    "sum_payable_wk = [0,0,0,0]\n",
    "for j in range(len(four_wk_report_bi)):\n",
    "    for i in range(len(four_wk_report_bi[j])):\n",
    "        df_temp = four_wk_report_bi[j]\n",
    "        sum_payable_wk[j] = sum_payable_wk[j] + df_temp.iloc[i]['Balance']\n",
    "\n",
    "result2 = pd.concat(four_wk_report_bi, keys=['as of '+str(first_day),'as of '+str(first_day+week), 'as of '+str(first_day+(week+week)),'as of '+str(first_day+(week+week+week))],axis=1)\n",
    "print(sum_payable_wk)"
   ]
  },
  {
   "cell_type": "code",
   "execution_count": 49,
   "metadata": {},
   "outputs": [
    {
     "name": "stdout",
     "output_type": "stream",
     "text": [
      "[-5471442.610000001, -6778893.680000003, -6231352.880000006, -6007877.380000006]\n"
     ]
    }
   ],
   "source": [
    "difference = [0,0,0,0]\n",
    "for j in range(len(sum_payable_wk)):\n",
    "    difference[j] = sum_recievable_wk[j] - sum_payable_wk[j]\n",
    "print(difference)"
   ]
  },
  {
   "cell_type": "code",
   "execution_count": 50,
   "metadata": {},
   "outputs": [
    {
     "name": "stdout",
     "output_type": "stream",
     "text": [
      "      payables  recievables  difference              week\n",
      "0  16208766.27  10737323.66 -5471442.61  as of 2018-06-28\n",
      "1  17655213.09  10876319.41 -6778893.68  as of 2018-07-05\n",
      "2  17887244.09  11655891.21 -6231352.88  as of 2018-07-12\n",
      "3  18010112.59  12002235.21 -6007877.38  as of 2018-07-19\n"
     ]
    }
   ],
   "source": [
    "df_graph = pd.DataFrame({'payables':sum_payable_wk,'recievables':sum_recievable_wk,'difference':difference,'week':['as of '+str(first_day),'as of '+str(first_day+week), 'as of '+str(first_day+(week+week)),'as of '+str(first_day+(week+week+week))]})\n",
    "print(df_graph)"
   ]
  },
  {
   "cell_type": "code",
   "execution_count": 51,
   "metadata": {},
   "outputs": [
    {
     "name": "stdout",
     "output_type": "stream",
     "text": [
      "                week     variable        value\n",
      "0   as of 2018-06-28     payables  16208766.27\n",
      "1   as of 2018-07-05     payables  17655213.09\n",
      "2   as of 2018-07-12     payables  17887244.09\n",
      "3   as of 2018-07-19     payables  18010112.59\n",
      "4   as of 2018-06-28  recievables  10737323.66\n",
      "5   as of 2018-07-05  recievables  10876319.41\n",
      "6   as of 2018-07-12  recievables  11655891.21\n",
      "7   as of 2018-07-19  recievables  12002235.21\n",
      "8   as of 2018-06-28   difference  -5471442.61\n",
      "9   as of 2018-07-05   difference  -6778893.68\n",
      "10  as of 2018-07-12   difference  -6231352.88\n",
      "11  as of 2018-07-19   difference  -6007877.38\n"
     ]
    }
   ],
   "source": [
    "data = df_graph.melt(id_vars =['week'],value_vars=['payables','recievables','difference'] )\n",
    "print(data)"
   ]
  },
  {
   "cell_type": "code",
   "execution_count": 60,
   "metadata": {},
   "outputs": [
    {
     "data": {
      "image/png": "[encoded data removed]",
      "text/plain": [
       "<Figure size 1440x1080 with 1 Axes>"
      ]
     },
     "metadata": {},
     "output_type": "display_data"
    }
   ],
   "source": [
    "sns.set(rc={'figure.figsize':(20,15)})\n",
    "ax = sns.barplot(x='week', y='value',hue='variable', data=data)\n",
    "for p in ax.patches:\n",
    "    ax.text(p.get_x() + p.get_width()/2., p.get_height(), '%d' % int(p.get_height()), \n",
    "            fontsize=14, color='black', ha='center', va='bottom')\n",
    "plt.show()"
   ]
  },
  {
   "cell_type": "code",
   "execution_count": 61,
   "metadata": {},
   "outputs": [],
   "source": [
    "fig = ax.get_figure()\n",
    "fig.savefig(\"output.png\")"
   ]
  },
  {
   "cell_type": "code",
   "execution_count": null,
   "metadata": {},
   "outputs": [],
   "source": []
  }
 ],
 "metadata": {
  "kernelspec": {
   "display_name": "Python 3",
   "language": "python",
   "name": "python3"
  },
  "language_info": {
   "codemirror_mode": {
    "name": "ipython",
    "version": 3
   },
   "file_extension": ".py",
   "mimetype": "text/x-python",
   "name": "python",
   "nbconvert_exporter": "python",
   "pygments_lexer": "ipython3",
   "version": "3.6.5"
  }
 },
 "nbformat": 4,
 "nbformat_minor": 2
}
